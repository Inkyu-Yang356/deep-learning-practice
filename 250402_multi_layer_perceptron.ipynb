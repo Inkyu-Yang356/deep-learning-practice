{
  "nbformat": 4,
  "nbformat_minor": 0,
  "metadata": {
    "colab": {
      "provenance": [],
      "include_colab_link": true
    },
    "kernelspec": {
      "name": "python3",
      "display_name": "Python 3"
    },
    "language_info": {
      "name": "python"
    }
  },
  "cells": [
    {
      "cell_type": "markdown",
      "metadata": {
        "id": "view-in-github",
        "colab_type": "text"
      },
      "source": [
        "<a href=\"https://colab.research.google.com/github/Inkyu-Yang356/deep-learning-practice/blob/main/250402_multi_layer_perceptron.ipynb\" target=\"_parent\"><img src=\"https://colab.research.google.com/assets/colab-badge.svg\" alt=\"Open In Colab\"/></a>"
      ]
    },
    {
      "cell_type": "markdown",
      "source": [
        "# Numpy 기초 실습"
      ],
      "metadata": {
        "id": "KCKM3Y7FIbht"
      }
    },
    {
      "cell_type": "markdown",
      "source": [
        "## List to Numpy Array"
      ],
      "metadata": {
        "id": "BZM4raj2OsUj"
      }
    },
    {
      "cell_type": "code",
      "execution_count": 24,
      "metadata": {
        "id": "g1koiUYhICMu"
      },
      "outputs": [],
      "source": [
        "import numpy as np"
      ]
    },
    {
      "cell_type": "code",
      "source": [
        "test = np.array([[1,2,3], [4,5,6]])\n",
        "test"
      ],
      "metadata": {
        "id": "l3oAg5vFIeFx",
        "colab": {
          "base_uri": "https://localhost:8080/"
        },
        "outputId": "ec292649-b227-41ab-ecc9-5f71a0c1f5b2"
      },
      "execution_count": 25,
      "outputs": [
        {
          "output_type": "execute_result",
          "data": {
            "text/plain": [
              "array([[1, 2, 3],\n",
              "       [4, 5, 6]])"
            ]
          },
          "metadata": {},
          "execution_count": 25
        }
      ]
    },
    {
      "cell_type": "markdown",
      "source": [
        "### 문제1 : 아래 list 3개를 각각 행으로 갖는 배열을 생성하는 코드를 완성하고 배열의 크기를 print 하세요"
      ],
      "metadata": {
        "id": "3NI3EK4eS3w0"
      }
    },
    {
      "cell_type": "code",
      "source": [
        "list1 = [1,2,3,4]\n",
        "list2 = [5,6,7,8]\n",
        "list3 = [9,10,11,12]\n",
        "\n",
        "arr = np.array([list1,list2,list3]) # Numpy 배열로 리스트 각 행으로 병합\n",
        "\n",
        "print(arr)\n",
        "print(arr.shape)"
      ],
      "metadata": {
        "colab": {
          "base_uri": "https://localhost:8080/"
        },
        "id": "llyjyRFlO07T",
        "outputId": "23efcebb-4464-4478-e701-c8796d38d675"
      },
      "execution_count": 26,
      "outputs": [
        {
          "output_type": "stream",
          "name": "stdout",
          "text": [
            "[[ 1  2  3  4]\n",
            " [ 5  6  7  8]\n",
            " [ 9 10 11 12]]\n",
            "(3, 4)\n"
          ]
        }
      ]
    },
    {
      "cell_type": "markdown",
      "source": [
        "## Reshape"
      ],
      "metadata": {
        "id": "_42lJZZqQ8Iq"
      }
    },
    {
      "cell_type": "code",
      "source": [
        "arr16 = np.array(list(range(16))).reshape((4,4))\n",
        "# 범위 0-15인 리스트의 배열을 4x4로 재형성\n",
        "arr16"
      ],
      "metadata": {
        "colab": {
          "base_uri": "https://localhost:8080/"
        },
        "id": "7txsOkorOwSa",
        "outputId": "3188e42d-fb28-4467-a49b-e303bfdb7e5c"
      },
      "execution_count": 27,
      "outputs": [
        {
          "output_type": "execute_result",
          "data": {
            "text/plain": [
              "array([[ 0,  1,  2,  3],\n",
              "       [ 4,  5,  6,  7],\n",
              "       [ 8,  9, 10, 11],\n",
              "       [12, 13, 14, 15]])"
            ]
          },
          "metadata": {},
          "execution_count": 27
        }
      ]
    },
    {
      "cell_type": "markdown",
      "source": [
        "### 문제2 : 0부터 15까지의 숫자를 원소로 갖는 배열을 아래의 형태로 만드는 코드를 작성해보세요"
      ],
      "metadata": {
        "id": "DAUCn6vtS9Zw"
      }
    },
    {
      "cell_type": "code",
      "source": [
        "# [[ 0,  1],\n",
        "# [ 2,  3],\n",
        "# [ 4,  5],\n",
        "# [ 6,  7],\n",
        "# [ 8,  9],\n",
        "# [10, 11],\n",
        "# [12, 13],\n",
        "# [14, 15]]\n",
        "\n",
        "arr16_reshaped = arr16.reshape(8, 2)    # 8행 2열 재형성\n",
        "print(arr16_reshaped)"
      ],
      "metadata": {
        "colab": {
          "base_uri": "https://localhost:8080/"
        },
        "id": "Nb3XPc0EQcyP",
        "outputId": "e0929022-ccb0-441c-c777-7a012633f023"
      },
      "execution_count": 28,
      "outputs": [
        {
          "output_type": "stream",
          "name": "stdout",
          "text": [
            "[[ 0  1]\n",
            " [ 2  3]\n",
            " [ 4  5]\n",
            " [ 6  7]\n",
            " [ 8  9]\n",
            " [10 11]\n",
            " [12 13]\n",
            " [14 15]]\n"
          ]
        }
      ]
    },
    {
      "cell_type": "markdown",
      "source": [
        "## 0 or 1 값 채우기"
      ],
      "metadata": {
        "id": "saqa0r5HRC0p"
      }
    },
    {
      "cell_type": "code",
      "source": [
        "filled_one = np.ones(16)  # 1차원 배열 16개의 1 나열\n",
        "filled_one"
      ],
      "metadata": {
        "colab": {
          "base_uri": "https://localhost:8080/"
        },
        "id": "zi8SkccPRKEm",
        "outputId": "cd16429e-3c37-4d7c-c0a1-a6bb1dfd7066"
      },
      "execution_count": 29,
      "outputs": [
        {
          "output_type": "execute_result",
          "data": {
            "text/plain": [
              "array([1., 1., 1., 1., 1., 1., 1., 1., 1., 1., 1., 1., 1., 1., 1., 1.])"
            ]
          },
          "metadata": {},
          "execution_count": 29
        }
      ]
    },
    {
      "cell_type": "code",
      "source": [
        "filled_zero = np.zeros((2,5)) # 2행 5열 0 으로 채우기\n",
        "filled_zero"
      ],
      "metadata": {
        "colab": {
          "base_uri": "https://localhost:8080/"
        },
        "id": "695GN0E_RL5G",
        "outputId": "82b31a00-61dd-4913-ecc6-ebf9d6dc8e3a"
      },
      "execution_count": 30,
      "outputs": [
        {
          "output_type": "execute_result",
          "data": {
            "text/plain": [
              "array([[0., 0., 0., 0., 0.],\n",
              "       [0., 0., 0., 0., 0.]])"
            ]
          },
          "metadata": {},
          "execution_count": 30
        }
      ]
    },
    {
      "cell_type": "code",
      "source": [
        "filled_like_arr16 = np.ones_like(arr16)  # 같은 형태의 배열을 1로 채우기\n",
        "filled_like_arr16"
      ],
      "metadata": {
        "colab": {
          "base_uri": "https://localhost:8080/"
        },
        "id": "5hoOf65CRHD-",
        "outputId": "2f82f04b-76cb-44f0-e50d-95a2f6f3249c"
      },
      "execution_count": 31,
      "outputs": [
        {
          "output_type": "execute_result",
          "data": {
            "text/plain": [
              "array([[1, 1, 1, 1],\n",
              "       [1, 1, 1, 1],\n",
              "       [1, 1, 1, 1],\n",
              "       [1, 1, 1, 1]])"
            ]
          },
          "metadata": {},
          "execution_count": 31
        }
      ]
    },
    {
      "cell_type": "markdown",
      "source": [
        "### 문제 3 : 아래 형태를 갖는 배열을 만드는 코드를 작성해보세요\n",
        "- ones, zeros, reshape 사용\n",
        "- 성공했으면 concatenate의 axis를 0으로 바꿔보고 어떤 동작을 하는지 적어보세요"
      ],
      "metadata": {
        "id": "FbJ_pfUrTDtR"
      }
    },
    {
      "cell_type": "code",
      "source": [
        "# arr_with_one 배열 참고\n",
        "# [[1., 1.],\n",
        "# [1., 1.],\n",
        "# [1., 1.],\n",
        "# [1., 1.]]\n",
        "\n",
        "# arr_with_zero 배열 참고\n",
        "# [[0., 0.],\n",
        "# [0., 0.],\n",
        "# [0., 0.],\n",
        "# [0., 0.]]\n",
        "\n",
        "# arr_with_one_zero 배열 참고\n",
        "# [[1., 1., 0., 0.],\n",
        "# [1., 1., 0., 0.],\n",
        "# [1., 1., 0., 0.],\n",
        "# [1., 1., 0., 0.]]\n",
        "\n",
        "arr_with_one = np.ones(8).reshape(4,2)    # 4행 2열 재형성\n",
        "arr_with_zero = np.zeros(8).reshape(4,2)  # 4행 2열 재형성\n",
        "arr_with_one_zero = np.concatenate((arr_with_one, arr_with_zero), axis=1) # 수평으로 배열 합치기, Must have the same shape\n",
        "arr_with_one_zero"
      ],
      "metadata": {
        "colab": {
          "base_uri": "https://localhost:8080/"
        },
        "id": "cgChTODOS1LU",
        "outputId": "c448bf13-0d92-4b7f-9992-9fc1bfef7173"
      },
      "execution_count": 32,
      "outputs": [
        {
          "output_type": "execute_result",
          "data": {
            "text/plain": [
              "array([[1., 1., 0., 0.],\n",
              "       [1., 1., 0., 0.],\n",
              "       [1., 1., 0., 0.],\n",
              "       [1., 1., 0., 0.]])"
            ]
          },
          "metadata": {},
          "execution_count": 32
        }
      ]
    },
    {
      "cell_type": "markdown",
      "source": [
        "## Broadcasting"
      ],
      "metadata": {
        "id": "SjUfnuZsU7qo"
      }
    },
    {
      "cell_type": "code",
      "source": [
        "bc = np.ones(25).reshape((5,5))\n",
        "bc = bc * 5 - 1  # Numpy를 통한 배열 연산\n",
        "bc"
      ],
      "metadata": {
        "colab": {
          "base_uri": "https://localhost:8080/"
        },
        "id": "0fevWabMU4ow",
        "outputId": "b3d17a0d-c941-45e4-f291-c2bdd3bf7705"
      },
      "execution_count": 33,
      "outputs": [
        {
          "output_type": "execute_result",
          "data": {
            "text/plain": [
              "array([[4., 4., 4., 4., 4.],\n",
              "       [4., 4., 4., 4., 4.],\n",
              "       [4., 4., 4., 4., 4.],\n",
              "       [4., 4., 4., 4., 4.],\n",
              "       [4., 4., 4., 4., 4.]])"
            ]
          },
          "metadata": {},
          "execution_count": 33
        }
      ]
    },
    {
      "cell_type": "code",
      "source": [
        "bc2 = bc * 0 + 3  # threes 배열\n",
        "bc + bc2    # fours + threes 배열 대 배열 연산"
      ],
      "metadata": {
        "colab": {
          "base_uri": "https://localhost:8080/"
        },
        "id": "d_-NYyHiVV2k",
        "outputId": "806b21f4-16c8-4e96-cecb-3f502e369ded"
      },
      "execution_count": 34,
      "outputs": [
        {
          "output_type": "execute_result",
          "data": {
            "text/plain": [
              "array([[7., 7., 7., 7., 7.],\n",
              "       [7., 7., 7., 7., 7.],\n",
              "       [7., 7., 7., 7., 7.],\n",
              "       [7., 7., 7., 7., 7.],\n",
              "       [7., 7., 7., 7., 7.]])"
            ]
          },
          "metadata": {},
          "execution_count": 34
        }
      ]
    },
    {
      "cell_type": "code",
      "source": [
        "one_dim_arr = [5, 5, 5, 5, 5]\n",
        "new_bc = bc + one_dim_arr  # 배열 대 배열 연산\n",
        "new_bc"
      ],
      "metadata": {
        "colab": {
          "base_uri": "https://localhost:8080/"
        },
        "id": "WTCCfB42VqM0",
        "outputId": "ac75ba10-5d44-4e75-f4b4-ed478afb4036"
      },
      "execution_count": 35,
      "outputs": [
        {
          "output_type": "execute_result",
          "data": {
            "text/plain": [
              "array([[9., 9., 9., 9., 9.],\n",
              "       [9., 9., 9., 9., 9.],\n",
              "       [9., 9., 9., 9., 9.],\n",
              "       [9., 9., 9., 9., 9.],\n",
              "       [9., 9., 9., 9., 9.]])"
            ]
          },
          "metadata": {},
          "execution_count": 35
        }
      ]
    },
    {
      "cell_type": "markdown",
      "source": [
        "## Slicing"
      ],
      "metadata": {
        "id": "bam-pV95XlMe"
      }
    },
    {
      "cell_type": "code",
      "source": [
        "print(arr16)"
      ],
      "metadata": {
        "colab": {
          "base_uri": "https://localhost:8080/"
        },
        "id": "kIPoNUNHXoSE",
        "outputId": "cc25dac6-cf2b-4075-cab8-2bc9ebef6159"
      },
      "execution_count": 48,
      "outputs": [
        {
          "output_type": "stream",
          "name": "stdout",
          "text": [
            "[[ 0  1  2  3]\n",
            " [ 4  5  6  7]\n",
            " [ 8  9 10 11]\n",
            " [12 13 14 15]]\n"
          ]
        }
      ]
    },
    {
      "cell_type": "code",
      "source": [
        "arr16[2]  # 인덱스 2 행 조회"
      ],
      "metadata": {
        "colab": {
          "base_uri": "https://localhost:8080/"
        },
        "id": "AOAl51ENX4BR",
        "outputId": "7ad3b5e2-bd3e-4f40-b065-8ff8e498fa76"
      },
      "execution_count": 37,
      "outputs": [
        {
          "output_type": "execute_result",
          "data": {
            "text/plain": [
              "array([ 8,  9, 10, 11])"
            ]
          },
          "metadata": {},
          "execution_count": 37
        }
      ]
    },
    {
      "cell_type": "code",
      "source": [
        "arr16[2,:]  # 인덱스 2행 전체 조회; 2차원"
      ],
      "metadata": {
        "colab": {
          "base_uri": "https://localhost:8080/"
        },
        "id": "UtTGQhkFX7eA",
        "outputId": "79bccfa8-5ea7-4e3e-af64-8d2c57f4e79a"
      },
      "execution_count": 38,
      "outputs": [
        {
          "output_type": "execute_result",
          "data": {
            "text/plain": [
              "array([ 8,  9, 10, 11])"
            ]
          },
          "metadata": {},
          "execution_count": 38
        }
      ]
    },
    {
      "cell_type": "code",
      "source": [
        "arr16[:,2]  # 인덱스 2열 전체 조회"
      ],
      "metadata": {
        "colab": {
          "base_uri": "https://localhost:8080/"
        },
        "id": "mhwqHG0WYCOf",
        "outputId": "c5ef0415-2bb1-40b1-ff97-7e0c49c656d3"
      },
      "execution_count": 39,
      "outputs": [
        {
          "output_type": "execute_result",
          "data": {
            "text/plain": [
              "array([ 2,  6, 10, 14])"
            ]
          },
          "metadata": {},
          "execution_count": 39
        }
      ]
    },
    {
      "cell_type": "code",
      "source": [
        "print(arr16[0:2]) # 인덱스 0과 1행 조회; 2개의 행\n",
        "print(arr16[0,2]) # 인덱스 0행 2열 조회; 1개의 셀"
      ],
      "metadata": {
        "colab": {
          "base_uri": "https://localhost:8080/"
        },
        "id": "mQKj_5KJYFou",
        "outputId": "3672e7f7-edf3-41d6-9945-6a22cab21378"
      },
      "execution_count": 40,
      "outputs": [
        {
          "output_type": "stream",
          "name": "stdout",
          "text": [
            "[[0 1 2 3]\n",
            " [4 5 6 7]]\n",
            "2\n"
          ]
        }
      ]
    },
    {
      "cell_type": "code",
      "source": [
        "arr16[1:3]  # 인덱스 1, 2행 조회"
      ],
      "metadata": {
        "colab": {
          "base_uri": "https://localhost:8080/"
        },
        "id": "Zm7kGKN6YKZH",
        "outputId": "4920792a-ae8d-4a5a-98a8-fe49d7026e68"
      },
      "execution_count": 41,
      "outputs": [
        {
          "output_type": "execute_result",
          "data": {
            "text/plain": [
              "array([[ 4,  5,  6,  7],\n",
              "       [ 8,  9, 10, 11]])"
            ]
          },
          "metadata": {},
          "execution_count": 41
        }
      ]
    },
    {
      "cell_type": "code",
      "source": [
        "arr16[arr16[:,0]<5] # 인덱스 0열 중 5보다 작은 경우, 행 전체 다시 대입"
      ],
      "metadata": {
        "colab": {
          "base_uri": "https://localhost:8080/"
        },
        "id": "qGCo_DOuYX4I",
        "outputId": "efd7a9fd-87c4-4a43-b0a4-2129db1e33f3"
      },
      "execution_count": 42,
      "outputs": [
        {
          "output_type": "execute_result",
          "data": {
            "text/plain": [
              "array([[0, 1, 2, 3],\n",
              "       [4, 5, 6, 7]])"
            ]
          },
          "metadata": {},
          "execution_count": 42
        }
      ]
    },
    {
      "cell_type": "markdown",
      "source": [
        "### 문제 4 : 3번째 열에서(index=2) 10보다 크거나 같은 원소가 있는 행 전체를 담는 배열을 생성해보세요"
      ],
      "metadata": {
        "id": "_0E3g_8eY6sR"
      }
    },
    {
      "cell_type": "code",
      "source": [
        "# 결과\n",
        "# [ 8,  9, 10, 11],\n",
        "# [12, 13, 14, 15]]\n",
        "\n",
        "test_arr = arr16[arr16[:, 2] >= 10]  # 2열 중 10보다 큰 경우, 해당 행 전체 재 대입\n",
        "test_arr"
      ],
      "metadata": {
        "colab": {
          "base_uri": "https://localhost:8080/"
        },
        "id": "3EkzmxahYjEK",
        "outputId": "8b20bb85-3d27-4f64-a6b5-280c993da948"
      },
      "execution_count": 49,
      "outputs": [
        {
          "output_type": "execute_result",
          "data": {
            "text/plain": [
              "array([[ 8,  9, 10, 11],\n",
              "       [12, 13, 14, 15]])"
            ]
          },
          "metadata": {},
          "execution_count": 49
        }
      ]
    },
    {
      "cell_type": "markdown",
      "source": [
        "## 평균(mean)"
      ],
      "metadata": {
        "id": "BirMFOCVZPrX"
      }
    },
    {
      "cell_type": "code",
      "source": [
        "target = np.ones((10000,100))   # 행 10000, 열 100\n",
        "target.shape"
      ],
      "metadata": {
        "colab": {
          "base_uri": "https://localhost:8080/"
        },
        "id": "03qrGGPEZOA6",
        "outputId": "fd2558a8-b07c-437e-ae09-7c8487dd8b38"
      },
      "execution_count": 51,
      "outputs": [
        {
          "output_type": "execute_result",
          "data": {
            "text/plain": [
              "(10000, 100)"
            ]
          },
          "metadata": {},
          "execution_count": 51
        }
      ]
    },
    {
      "cell_type": "code",
      "source": [
        "mean = target.mean(axis=0)    # axis=0; 각 행 평균\n",
        "print(mean.shape)\n",
        "print(mean)"
      ],
      "metadata": {
        "colab": {
          "base_uri": "https://localhost:8080/"
        },
        "id": "jm7RCGItZn37",
        "outputId": "fa22759e-9bdd-48aa-988f-fb03d7ea4e6c"
      },
      "execution_count": 52,
      "outputs": [
        {
          "output_type": "stream",
          "name": "stdout",
          "text": [
            "(100,)\n",
            "[1. 1. 1. 1. 1. 1. 1. 1. 1. 1. 1. 1. 1. 1. 1. 1. 1. 1. 1. 1. 1. 1. 1. 1.\n",
            " 1. 1. 1. 1. 1. 1. 1. 1. 1. 1. 1. 1. 1. 1. 1. 1. 1. 1. 1. 1. 1. 1. 1. 1.\n",
            " 1. 1. 1. 1. 1. 1. 1. 1. 1. 1. 1. 1. 1. 1. 1. 1. 1. 1. 1. 1. 1. 1. 1. 1.\n",
            " 1. 1. 1. 1. 1. 1. 1. 1. 1. 1. 1. 1. 1. 1. 1. 1. 1. 1. 1. 1. 1. 1. 1. 1.\n",
            " 1. 1. 1. 1.]\n"
          ]
        }
      ]
    },
    {
      "cell_type": "code",
      "source": [
        "mean = target.mean(axis=1)    # axis=1; 각 열 평균\n",
        "print(mean.shape)\n",
        "print(mean)"
      ],
      "metadata": {
        "colab": {
          "base_uri": "https://localhost:8080/"
        },
        "id": "_9fcdeM1ZTue",
        "outputId": "aae6f683-becc-416a-b6d8-024594538374"
      },
      "execution_count": 53,
      "outputs": [
        {
          "output_type": "stream",
          "name": "stdout",
          "text": [
            "(10000,)\n",
            "[1. 1. 1. ... 1. 1. 1.]\n"
          ]
        }
      ]
    },
    {
      "cell_type": "markdown",
      "source": [
        "# 코드를 통해서 XOR 문제 해결하기"
      ],
      "metadata": {
        "id": "FxLLamwAISJY"
      }
    },
    {
      "cell_type": "code",
      "source": [
        "# 가중치와 바이어스\n",
        "w11 = np.array([-2, -2])\n",
        "w12 = np.array([2, 2])\n",
        "w2 = np.array([1, 1])\n",
        "\n",
        "b1 = 3\n",
        "b2 = -1\n",
        "b3 = -1"
      ],
      "metadata": {
        "id": "c5AAAbW9IQyY"
      },
      "execution_count": 54,
      "outputs": []
    },
    {
      "cell_type": "code",
      "source": [
        "# 퍼셉트론\n",
        "def MLP(x, w, b):\n",
        "    y = np.sum(w * x) + b\n",
        "\n",
        "    if y <= 0:\n",
        "        return 0\n",
        "    else:\n",
        "        return 1"
      ],
      "metadata": {
        "id": "h8QlZfXtJv5E"
      },
      "execution_count": 55,
      "outputs": []
    },
    {
      "cell_type": "code",
      "source": [
        "# NAND 게이트 (은닉층)\n",
        "def NAND(x1,x2):\n",
        "    return MLP(np.array([x1, x2]), w11, b1) # np.sum(-2x)+3; [1,1] 일 경우 X\n",
        "\n",
        "# OR 게이트   (은닉층)\n",
        "def OR(x1,x2):\n",
        "    return MLP(np.array([x1, x2]), w12, b2) # np.sum(2x)-1; [0,0] 일 경우 X\n",
        "\n",
        "# AND 게이트\n",
        "def AND(x1,x2):\n",
        "    return MLP(np.array([x1, x2]), w2, b3)  # np.sum(x)-1; [1,1] 일 경우만 O\n",
        "\n",
        "# XOR 게이트\n",
        "def XOR(x1,x2):\n",
        "    return AND(NAND(x1, x2),OR(x1,x2))    # NAND, OR이 모두 만족할 경우 [0,1], [1,0]\n",
        "'''              AND (NAND, OR)\n",
        "              1   0   => 0\n",
        "              1   1   => 1\n",
        "              1   1   => 1\n",
        "              0   1   => 0\n",
        "'''"
      ],
      "metadata": {
        "id": "hruqACNnJ4YZ"
      },
      "execution_count": 56,
      "outputs": []
    },
    {
      "cell_type": "code",
      "source": [
        "# x1, x2 값을 번갈아 대입해 가며 최종 값 출력\n",
        "for x in [(0, 0), (1, 0), (0, 1), (1, 1)]:\n",
        "    y = XOR(x[0], x[1])\n",
        "    print(\"입력 값: \" + str(x) + \" 출력 값: \" + str(y))"
      ],
      "metadata": {
        "colab": {
          "base_uri": "https://localhost:8080/"
        },
        "id": "P6Z24XXTJ6I-",
        "outputId": "a154d04b-8aaa-4821-91ea-ba642647d637"
      },
      "execution_count": 57,
      "outputs": [
        {
          "output_type": "stream",
          "name": "stdout",
          "text": [
            "입력 값: (0, 0) 출력 값: 0\n",
            "입력 값: (1, 0) 출력 값: 1\n",
            "입력 값: (0, 1) 출력 값: 1\n",
            "입력 값: (1, 1) 출력 값: 0\n"
          ]
        }
      ]
    },
    {
      "cell_type": "markdown",
      "source": [
        "# Multi Perceptron Class 생성을 통해 해결하기"
      ],
      "metadata": {
        "id": "PaqqWAsvJpII"
      }
    },
    {
      "cell_type": "code",
      "source": [
        "# XOR 문제를 해결하기 위한 다층 퍼셉트론\n",
        "class SimpleMLP:\n",
        "    def __init__(self):\n",
        "        # 수동으로 설정한 가중치와 바이어스, 은닉층\n",
        "        self.weights_input_hidden = np.array([[-2, 2], [-2, 2]])  # x1, x2 -> n1, n2 계산을 위한 가중치 배열\n",
        "        self.bias_hidden = np.array([3, -1])  # x1, x2 -> n1, n2\n",
        "\n",
        "        # 출력층: 1개의 뉴런\n",
        "        self.weights_hidden_output = np.array([1, 1])  # n1, n2 -> y 가중치\n",
        "        self.bias_output = -1  # n1, n2 -> y 바이어스\n",
        "\n",
        "    def forward(self, X):\n",
        "        # 은닉층 계산\n",
        "        hidden_input = np.dot(X, self.weights_input_hidden) + self.bias_hidden    # dot 행렬의 곱\n",
        "        hidden_output = np.where(hidden_input <= 0, 0, 1)   # where(data = 0 만족하면 0, 그렇지 않으면 1)\n",
        "        print(f\"hidden_output : {hidden_input}\")\n",
        "\n",
        "        # 출력층 계산\n",
        "        final_input = np.dot(hidden_output, self.weights_hidden_output) + self.bias_output    #  dot 행렬의 곱\n",
        "        final_output = np.where(final_input <= 0, 0, 1)   # where(data = 0 만족하면 0, 그렇지 않으면 1)\n",
        "        print(f\"final_output : {final_input}\")\n",
        "        return final_output\n",
        "\n",
        "'''\n",
        "  w_11 w_12  =>  [-2, 2] ; b1 = 1\n",
        "  w_21 w_22  =>  [-2, 2] ; b2 = 1\n",
        "\n",
        "  [입력값] * [가중치] + 편향값\n",
        "'''"
      ],
      "metadata": {
        "id": "m57gn3nTaM9L",
        "colab": {
          "base_uri": "https://localhost:8080/",
          "height": 110
        },
        "outputId": "0c8e805c-e252-43ea-8001-5582abf68cab"
      },
      "execution_count": 62,
      "outputs": [
        {
          "output_type": "error",
          "ename": "IndentationError",
          "evalue": "unexpected indent (<ipython-input-62-bd25494fa87f>, line 15)",
          "traceback": [
            "\u001b[0;36m  File \u001b[0;32m\"<ipython-input-62-bd25494fa87f>\"\u001b[0;36m, line \u001b[0;32m15\u001b[0m\n\u001b[0;31m    def forward(self, X):\u001b[0m\n\u001b[0m    ^\u001b[0m\n\u001b[0;31mIndentationError\u001b[0m\u001b[0;31m:\u001b[0m unexpected indent\n"
          ]
        }
      ]
    },
    {
      "cell_type": "code",
      "source": [
        "# XOR 데이터셋 정의\n",
        "XOR_X = np.array([[0, 0], [0, 1], [1, 0], [1, 1]])  # 입력값\n",
        "XOR_y = np.array([0, 1, 1, 0])  # XOR 출력값"
      ],
      "metadata": {
        "id": "5kAc9kaHaRwu"
      },
      "execution_count": 59,
      "outputs": []
    },
    {
      "cell_type": "code",
      "source": [
        "# 모델 초기화\n",
        "mlp = SimpleMLP()"
      ],
      "metadata": {
        "id": "uqNZS7fmaTwM"
      },
      "execution_count": 60,
      "outputs": []
    },
    {
      "cell_type": "code",
      "source": [
        "# 예측\n",
        "predictions = mlp.forward(XOR_X)\n",
        "# 결과 출력\n",
        "print(f\"XOR 문제 예측 결과: {predictions}\")"
      ],
      "metadata": {
        "colab": {
          "base_uri": "https://localhost:8080/"
        },
        "id": "emQQfaBebYJ7",
        "outputId": "3ae852e3-cb8b-408f-9f5a-a4809c6e49a1"
      },
      "execution_count": 61,
      "outputs": [
        {
          "output_type": "stream",
          "name": "stdout",
          "text": [
            "hidden_output : [[ 3 -1]\n",
            " [ 1  1]\n",
            " [ 1  1]\n",
            " [-1  3]]\n",
            "final_output : [0 1 1 0]\n",
            "XOR 문제 예측 결과: [0 1 1 0]\n"
          ]
        }
      ]
    }
  ]
}